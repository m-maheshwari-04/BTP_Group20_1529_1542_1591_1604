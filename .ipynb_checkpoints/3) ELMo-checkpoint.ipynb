{
 "cells": [
  {
   "cell_type": "code",
   "execution_count": null,
   "id": "fb8aa9c7",
   "metadata": {
    "id": "fb8aa9c7"
   },
   "outputs": [],
   "source": [
    "import pandas as pd\n",
    "import numpy as np"
   ]
  },
  {
   "cell_type": "code",
   "execution_count": null,
   "id": "eef418b5",
   "metadata": {
    "colab": {
     "base_uri": "https://localhost:8080/"
    },
    "id": "eef418b5",
    "outputId": "183314cf-f545-4131-e7aa-66bfd409b9a4"
   },
   "outputs": [
    {
     "name": "stderr",
     "output_type": "stream",
     "text": [
      "WARNING:tensorflow:From /usr/local/lib/python3.9/dist-packages/tensorflow/python/compat/v2_compat.py:107: disable_resource_variables (from tensorflow.python.ops.variable_scope) is deprecated and will be removed in a future version.\n",
      "Instructions for updating:\n",
      "non-resource variables are not supported in the long term\n"
     ]
    }
   ],
   "source": [
    "import tensorflow.compat.v1 as tf\n",
    "#import tensorflow as tf\n",
    "import tensorflow_hub as hub\n",
    "#tf.enable_eager_execution()\n",
    "tf.disable_v2_behavior()\n",
    "\n",
    "elmo = hub.Module(\"https://tfhub.dev/google/elmo/3\", trainable=False)"
   ]
  },
  {
   "cell_type": "code",
   "execution_count": null,
   "id": "f05f87ac",
   "metadata": {
    "id": "f05f87ac"
   },
   "outputs": [],
   "source": [
    "SEQ_LEN = 150"
   ]
  },
  {
   "cell_type": "code",
   "execution_count": null,
   "id": "001c40f1",
   "metadata": {
    "id": "001c40f1"
   },
   "outputs": [],
   "source": [
    "df = pd.read_csv('processed_data.csv')\n",
    "df = df.sample(frac = 1)"
   ]
  },
  {
   "cell_type": "code",
   "execution_count": null,
   "id": "aQJbcqol7SIv",
   "metadata": {
    "colab": {
     "base_uri": "https://localhost:8080/"
    },
    "id": "aQJbcqol7SIv",
    "outputId": "ac52d607-b726-4f62-ea5e-c64a26d093d6"
   },
   "outputs": [
    {
     "data": {
      "text/plain": [
       "{'S': 182, 'N': 568, 'U': 132}"
      ]
     },
     "execution_count": 5,
     "metadata": {},
     "output_type": "execute_result"
    }
   ],
   "source": [
    "anot = {}\n",
    "for ele in df['Annotation']:\n",
    "  if ele in anot:\n",
    "    anot[ele]+=1\n",
    "  else:\n",
    "    anot[ele] = 1\n",
    "anot"
   ]
  },
  {
   "cell_type": "code",
   "execution_count": null,
   "id": "bea46f8c",
   "metadata": {
    "colab": {
     "base_uri": "https://localhost:8080/"
    },
    "id": "bea46f8c",
    "outputId": "951333c5-e386-47ea-b5ad-36803579fbf7"
   },
   "outputs": [
    {
     "name": "stdout",
     "output_type": "stream",
     "text": [
      "882\n",
      "882\n"
     ]
    }
   ],
   "source": [
    "print(len(df))\n",
    "df = df.dropna()\n",
    "print(len(df))"
   ]
  },
  {
   "cell_type": "code",
   "execution_count": null,
   "id": "ddcfd944",
   "metadata": {
    "colab": {
     "base_uri": "https://localhost:8080/"
    },
    "id": "ddcfd944",
    "outputId": "085b4007-f35b-40b4-8d54-d6cdc6da4d96"
   },
   "outputs": [
    {
     "name": "stdout",
     "output_type": "stream",
     "text": [
      "<class 'numpy.ndarray'>\n",
      "[0 1 2]\n"
     ]
    },
    {
     "data": {
      "text/plain": [
       "array([0, 1, 1, 0, 1, 1, 2, 1, 1, 0, 0, 0, 1, 0, 1, 1, 1, 1, 1, 2, 1, 1,\n",
       "       1, 1, 1, 2, 0, 1, 1, 1, 0, 0, 1, 0, 1, 1, 1, 0, 0, 1, 1, 1, 2, 1,\n",
       "       1, 1, 1, 1, 1, 0, 1, 0, 1, 1, 1, 1, 0, 1, 1, 1, 0, 2, 1, 1, 2, 2,\n",
       "       0, 1, 1, 0, 1, 1, 2, 1, 1, 1, 1, 1, 1, 0, 1, 1, 1, 2, 0, 1, 0, 1,\n",
       "       0, 1, 1, 1, 2, 0, 0, 1, 2, 1, 0, 1, 0, 1, 1, 2, 1, 2, 0, 1, 0, 1,\n",
       "       1, 1, 0, 1, 2, 1, 1, 1, 2, 1, 1, 1, 1, 1, 1, 1, 1, 2, 0, 1, 0, 1,\n",
       "       1, 1, 0, 1, 0, 2, 2, 1, 0, 1, 1, 1, 2, 1, 1, 1, 2, 1, 1, 0, 1, 1,\n",
       "       2, 1, 1, 1, 0, 0, 0, 0, 1, 0, 1, 0, 1, 1, 1, 1, 0, 1, 1, 2, 2, 2,\n",
       "       1, 1, 0, 1, 1, 2, 1, 1, 1, 1, 1, 0, 1, 1, 1, 1, 0, 1, 0, 2, 1, 1,\n",
       "       0, 0, 1, 1, 0, 0, 2, 0, 0, 1, 1, 1, 1, 2, 1, 1, 1, 1, 2, 1, 1, 2,\n",
       "       1, 2, 1, 2, 2, 1, 2, 1, 1, 1, 1, 1, 0, 2, 1, 1, 1, 1, 0, 1, 1, 1,\n",
       "       1, 1, 1, 1, 1, 1, 1, 2, 0, 1, 1, 1, 1, 1, 1, 1, 2, 0, 2, 1, 1, 1,\n",
       "       1, 0, 2, 1, 1, 2, 0, 2, 0, 1, 2, 1, 1, 1, 1, 1, 0, 1, 1, 1, 0, 1,\n",
       "       1, 0, 2, 1, 0, 1, 1, 1, 0, 1, 1, 1, 1, 1, 2, 1, 1, 1, 0, 1, 1, 0,\n",
       "       2, 1, 1, 1, 1, 0, 1, 2, 1, 0, 1, 1, 0, 1, 0, 1, 2, 0, 0, 1, 1, 1,\n",
       "       1, 1, 1, 2, 0, 2, 1, 0, 0, 0, 0, 1, 2, 1, 0, 1, 2, 1, 0, 1, 0, 1,\n",
       "       1, 1, 0, 1, 1, 1, 0, 1, 2, 1, 1, 0, 2, 2, 1, 1, 1, 2, 0, 0, 2, 1,\n",
       "       1, 1, 1, 1, 2, 0, 2, 1, 1, 0, 1, 0, 0, 1, 1, 2, 1, 0, 2, 1, 1, 1,\n",
       "       0, 2, 1, 1, 1, 2, 1, 1, 1, 1, 1, 1, 1, 0, 0, 1, 0, 0, 2, 1, 2, 1,\n",
       "       2, 1, 1, 1, 1, 1, 2, 0, 1, 1, 1, 1, 0, 2, 1, 0, 0, 1, 2, 1, 2, 1,\n",
       "       1, 1, 0, 1, 1, 2, 1, 1, 1, 1, 1, 1, 0, 1, 1, 1, 1, 1, 1, 2, 1, 1,\n",
       "       1, 1, 1, 2, 0, 1, 2, 0, 2, 1, 1, 2, 2, 1, 1, 1, 2, 0, 0, 2, 0, 1,\n",
       "       1, 1, 0, 1, 1, 1, 1, 0, 1, 0, 1, 1, 1, 1, 0, 2, 1, 1, 1, 1, 0, 1,\n",
       "       1, 1, 2, 1, 1, 1, 1, 1, 1, 0, 1, 1, 1, 1, 0, 1, 1, 2, 0, 1, 2, 0,\n",
       "       2, 1, 1, 1, 1, 2, 1, 1, 1, 1, 1, 0, 1, 0, 1, 0, 1, 1, 1, 0, 0, 1,\n",
       "       1, 1, 1, 1, 2, 0, 0, 1, 1, 0, 1, 2, 2, 1, 0, 2, 1, 1, 1, 1, 1, 0,\n",
       "       1, 0, 2, 2, 0, 0, 1, 1, 1, 2, 0, 0, 1, 0, 1, 1, 1, 0, 0, 1, 1, 1,\n",
       "       1, 1, 1, 0, 1, 0, 1, 2, 0, 0, 1, 1, 1, 2, 2, 0, 1, 1, 2, 1, 1, 2,\n",
       "       1, 0, 0, 1, 2, 1, 1, 0, 0, 2, 1, 1, 1, 0, 0, 1, 1, 1, 1, 1, 1, 1,\n",
       "       1, 1, 1, 1, 0, 1, 1, 0, 1, 0, 0, 1, 2, 2, 2, 0, 1, 1, 1, 1, 1, 1,\n",
       "       1, 0, 1, 2, 1, 1, 1, 1, 1, 2, 2, 0, 1, 2, 1, 1, 1, 1, 1, 1, 2, 0,\n",
       "       1, 1, 1, 1, 1, 1, 1, 1, 1, 1, 1, 2, 1, 0, 1, 1, 1, 2, 2, 1, 1, 2,\n",
       "       1, 2, 1, 1, 1, 2, 2, 1, 0, 1, 2, 0, 1, 1, 1, 1, 1, 1, 1, 1, 1, 1,\n",
       "       1, 1, 1, 1, 1, 0, 0, 1, 1, 1, 0, 1, 1, 2, 1, 1, 1, 2, 2, 0, 1, 1,\n",
       "       1, 1, 1, 1, 0, 1, 1, 1, 1, 1, 1, 0, 2, 0, 2, 1, 0, 1, 1, 1, 1, 1,\n",
       "       2, 1, 1, 0, 1, 1, 1, 1, 1, 1, 2, 1, 1, 1, 1, 1, 0, 0, 1, 1, 0, 2,\n",
       "       1, 1, 1, 0, 0, 1, 1, 2, 1, 1, 1, 1, 1, 1, 1, 1, 0, 1, 1, 1, 1, 0,\n",
       "       1, 1, 0, 1, 0, 0, 0, 0, 1, 1, 1, 1, 1, 2, 1, 1, 1, 1, 2, 1, 1, 1,\n",
       "       1, 2, 1, 1, 2, 2, 2, 1, 2, 1, 1, 1, 0, 1, 1, 1, 0, 1, 1, 1, 1, 1,\n",
       "       1, 1, 1, 1, 0, 2, 1, 1, 1, 1, 1, 1, 1, 1, 0, 1, 1, 1, 0, 1, 1, 1,\n",
       "       2, 0])"
      ]
     },
     "execution_count": 7,
     "metadata": {},
     "output_type": "execute_result"
    }
   ],
   "source": [
    "arr = df['Annotation'].values\n",
    "print(type(arr))\n",
    "def switch(row):\n",
    "    dic = {\n",
    "        'S':0,\n",
    "        'N':1,\n",
    "        'U':2\n",
    "    }\n",
    "    return dic.get(row)\n",
    "\n",
    "arr = np.array([switch(x) for x in arr])\n",
    "print(np.unique(arr))\n",
    "labels = np.zeros((arr.size,len(np.unique(arr))))\n",
    "arr"
   ]
  },
  {
   "cell_type": "code",
   "execution_count": null,
   "id": "f1112199",
   "metadata": {
    "colab": {
     "base_uri": "https://localhost:8080/"
    },
    "id": "f1112199",
    "outputId": "03e60721-008c-4ea0-9215-0b0038959e05"
   },
   "outputs": [
    {
     "data": {
      "text/plain": [
       "array([[1., 0., 0.],\n",
       "       [0., 1., 0.],\n",
       "       [0., 1., 0.],\n",
       "       [1., 0., 0.],\n",
       "       [0., 1., 0.]])"
      ]
     },
     "execution_count": 8,
     "metadata": {},
     "output_type": "execute_result"
    }
   ],
   "source": [
    "labels[np.arange(arr.size),arr] = 1\n",
    "labels[0:5]"
   ]
  },
  {
   "cell_type": "code",
   "execution_count": null,
   "id": "qI0u3SrX58NK",
   "metadata": {
    "colab": {
     "base_uri": "https://localhost:8080/"
    },
    "id": "qI0u3SrX58NK",
    "outputId": "2a2142c5-7f4e-4153-9cfe-aeaef0310130"
   },
   "outputs": [
    {
     "name": "stdout",
     "output_type": "stream",
     "text": [
      "(882, 228, 1024)\n",
      "Tensor(\"module_apply_default/aggregation/mul_3:0\", shape=(882, 228, 1024), dtype=float32)\n"
     ]
    }
   ],
   "source": [
    "input_tensor = df['PlainText'].tolist()\n",
    "\n",
    "\n",
    "embeddings = elmo(input_tensor,signature=\"default\",as_dict=True)[\"elmo\"]\n",
    "\n",
    "print(embeddings.shape)\n",
    "print(embeddings)"
   ]
  },
  {
   "cell_type": "code",
   "execution_count": null,
   "id": "7a7fed2d",
   "metadata": {
    "id": "7a7fed2d"
   },
   "outputs": [],
   "source": [
    "from sklearn.model_selection import train_test_split\n",
    "\n",
    "texts=input_tensor\n",
    "texts = [' '.join(t.split()[:SEQ_LEN]) for t in texts]\n",
    "texts = np.array(texts, dtype=object)[:, np.newaxis]\n",
    "\n",
    "x_train, x_val, y_train, y_val = train_test_split(texts, labels, random_state=1992, test_size=0.2)"
   ]
  },
  {
   "cell_type": "code",
   "execution_count": null,
   "id": "9PkZhVLq9QrG",
   "metadata": {
    "id": "9PkZhVLq9QrG"
   },
   "outputs": [],
   "source": [
    "from tensorflow.python.keras import backend as K\n",
    "\n",
    "class ElmoEmbeddingLayer(tf.keras.layers.Layer):\n",
    "    def __init__(self, **kwargs):\n",
    "        self.dimensions = 1024\n",
    "        self.trainable = True\n",
    "        super(ElmoEmbeddingLayer, self).__init__(**kwargs)\n",
    "    def __repr__(self):\n",
    "        return \"trying\"\n",
    "        \n",
    "    def build(self, input_shape):\n",
    "        self.elmo = hub.Module('https://tfhub.dev/google/elmo/3', trainable=self.trainable,\n",
    "                               name=\"{}_module\".format(self.name))\n",
    "        super(ElmoEmbeddingLayer, self).build(input_shape)\n",
    "\n",
    "    def call(self, x, mask=None):\n",
    "        result = self.elmo(\n",
    "            K.squeeze(K.cast(x, tf.string), axis=1),\n",
    "            as_dict=True,\n",
    "            signature='default',\n",
    "            )['default']\n",
    "        return result\n",
    "\n",
    "    def compute_mask(self, inputs, mask=None):\n",
    "        return K.not_equal(inputs, '--PAD--')\n",
    "\n",
    "    def compute_output_shape(self, input_shape):\n",
    "        return (input_shape[0], self.dimensions)"
   ]
  },
  {
   "cell_type": "code",
   "execution_count": null,
   "id": "020c5843",
   "metadata": {
    "colab": {
     "base_uri": "https://localhost:8080/"
    },
    "id": "020c5843",
    "outputId": "6c56ced6-178d-44fb-cb03-a6768df641e4"
   },
   "outputs": [
    {
     "name": "stderr",
     "output_type": "stream",
     "text": [
      "WARNING:tensorflow:From /usr/local/lib/python3.9/dist-packages/tensorflow/python/autograph/pyct/static_analysis/liveness.py:83: Analyzer.lamba_check (from tensorflow.python.autograph.pyct.static_analysis.liveness) is deprecated and will be removed after 2023-09-23.\n",
      "Instructions for updating:\n",
      "Lambda fuctions will be no more assumed to be used in the statement where they are used, or at least in the same block. https://github.com/tensorflow/tensorflow/issues/56089\n"
     ]
    }
   ],
   "source": [
    "# input_text = tf.keras.layers.Input(shape=(1,), dtype=tf.string)\n",
    "# embedding = ElmoEmbeddingLayer()(input_text)\n",
    "# x = tf.keras.layers.GlobalMaxPool1D()(embeddings)\n",
    "# x = tf.keras.layers.BatchNormalization()(x)\n",
    "input_text = tf.keras.Input(shape=(1,), dtype=\"string\", name='input_0')\n",
    "x = ElmoEmbeddingLayer(name = \"embed\")(input_text)\n",
    "x = tf.keras.layers.Dropout(0.3)(x)\n",
    "x = tf.keras.layers.Dense(256,activation='relu')(x)\n",
    "x = tf.keras.layers.Dropout(0.3)(x)\n",
    "x = tf.keras.layers.Dense(64,activation='relu')(x)\n",
    "x = tf.keras.layers.Dense(16,activation='relu')(x)\n",
    "y = tf.keras.layers.Dense(3,activation='softmax',name='outputs')(x)"
   ]
  },
  {
   "cell_type": "code",
   "execution_count": null,
   "id": "8f1efc39",
   "metadata": {
    "id": "8f1efc39"
   },
   "outputs": [],
   "source": [
    "model = tf.keras.Model(inputs=[input_text], outputs=y)"
   ]
  },
  {
   "cell_type": "code",
   "execution_count": null,
   "id": "L8J-WnWTZtuU",
   "metadata": {
    "colab": {
     "base_uri": "https://localhost:8080/"
    },
    "id": "L8J-WnWTZtuU",
    "outputId": "f88b3a42-deef-4f14-f333-6acc750510c2"
   },
   "outputs": [
    {
     "data": {
      "text/plain": [
       "[<keras.engine.input_layer.InputLayer at 0x7f62c974af40>,\n",
       " trying,\n",
       " <keras.layers.regularization.dropout.Dropout at 0x7f635055b490>,\n",
       " <keras.layers.core.dense.Dense at 0x7f62c9491c40>,\n",
       " <keras.layers.regularization.dropout.Dropout at 0x7f62c91fe4c0>,\n",
       " <keras.layers.core.dense.Dense at 0x7f62c90d0880>,\n",
       " <keras.layers.core.dense.Dense at 0x7f62c8fb0af0>,\n",
       " <keras.layers.core.dense.Dense at 0x7f62c9130880>]"
      ]
     },
     "execution_count": 14,
     "metadata": {},
     "output_type": "execute_result"
    }
   ],
   "source": [
    "model.layers"
   ]
  },
  {
   "cell_type": "code",
   "execution_count": null,
   "id": "edecec8e",
   "metadata": {
    "colab": {
     "base_uri": "https://localhost:8080/"
    },
    "id": "edecec8e",
    "outputId": "40160522-0211-4ba5-c64a-e8ffef30faf7"
   },
   "outputs": [
    {
     "name": "stdout",
     "output_type": "stream",
     "text": [
      "Model: \"model\"\n",
      "_________________________________________________________________\n",
      " Layer (type)                Output Shape              Param #   \n",
      "=================================================================\n",
      " input_0 (InputLayer)        [(None, 1)]               0         \n",
      "                                                                 \n",
      " embed (ElmoEmbeddingLayer)  (None, 1024)              0         \n",
      "                                                                 \n",
      " dropout (Dropout)           (None, 1024)              0         \n",
      "                                                                 \n",
      " dense (Dense)               (None, 256)               262400    \n",
      "                                                                 \n",
      " dropout_1 (Dropout)         (None, 256)               0         \n",
      "                                                                 \n",
      " dense_1 (Dense)             (None, 64)                16448     \n",
      "                                                                 \n",
      " dense_2 (Dense)             (None, 16)                1040      \n",
      "                                                                 \n",
      " outputs (Dense)             (None, 3)                 51        \n",
      "                                                                 \n",
      "=================================================================\n",
      "Total params: 279,939\n",
      "Trainable params: 279,939\n",
      "Non-trainable params: 0\n",
      "_________________________________________________________________\n"
     ]
    }
   ],
   "source": [
    "model.summary()"
   ]
  },
  {
   "cell_type": "code",
   "execution_count": null,
   "id": "6kVhmhpUTmO5",
   "metadata": {
    "id": "6kVhmhpUTmO5"
   },
   "outputs": [],
   "source": [
    "optimizer = tf.keras.optimizers.Adam(0.0001)\n",
    "loss = tf.keras.losses.CategoricalCrossentropy()\n",
    "acc = tf.keras.metrics.CategoricalAccuracy('accuracy')\n",
    "model.compile(optimizer = optimizer,loss = loss,metrics = [acc])"
   ]
  },
  {
   "cell_type": "code",
   "execution_count": null,
   "id": "btpMF7Z1TmL5",
   "metadata": {
    "colab": {
     "base_uri": "https://localhost:8080/",
     "height": 1000
    },
    "id": "btpMF7Z1TmL5",
    "outputId": "edf63de6-4b73-4203-e2eb-d0c8b3325ffb"
   },
   "outputs": [
    {
     "name": "stdout",
     "output_type": "stream",
     "text": [
      "Train on 705 samples, validate on 177 samples\n",
      "Epoch 1/40\n",
      "705/705 [==============================] - ETA: 0s - loss: 0.9855 - accuracy: 0.5702"
     ]
    },
    {
     "name": "stderr",
     "output_type": "stream",
     "text": [
      "/usr/local/lib/python3.9/dist-packages/keras/engine/training_v1.py:2333: UserWarning: `Model.state_updates` will be removed in a future version. This property should not be used in TensorFlow 2.0, as `updates` are applied automatically.\n",
      "  updates = self.state_updates\n"
     ]
    },
    {
     "name": "stdout",
     "output_type": "stream",
     "text": [
      "\b\b\b\b\b\b\b\b\b\b\b\b\b\b\b\b\b\b\b\b\b\b\b\b\b\b\b\b\b\b\b\b\b\b\b\b\b\b\b\b\b\b\b\b\b\b\b\b\b\b\b\b\b\b\b\b\b\b\b\b\b\b\b\b\b\b\b\b\b\b\b\b\b\b\b\b\b\b\b\b\b\b\b\b\r",
      "705/705 [==============================] - 10s 14ms/sample - loss: 0.9855 - accuracy: 0.5702 - val_loss: 0.8745 - val_accuracy: 0.6780\n",
      "Epoch 2/40\n",
      "705/705 [==============================] - 9s 12ms/sample - loss: 0.9108 - accuracy: 0.6340 - val_loss: 0.8333 - val_accuracy: 0.6780\n",
      "Epoch 3/40\n",
      "705/705 [==============================] - 12s 17ms/sample - loss: 0.8752 - accuracy: 0.6355 - val_loss: 0.8097 - val_accuracy: 0.6780\n",
      "Epoch 4/40\n",
      "705/705 [==============================] - 9s 13ms/sample - loss: 0.8722 - accuracy: 0.6355 - val_loss: 0.8024 - val_accuracy: 0.6780\n",
      "Epoch 5/40\n",
      "705/705 [==============================] - 9s 12ms/sample - loss: 0.8368 - accuracy: 0.6355 - val_loss: 0.7852 - val_accuracy: 0.6780\n",
      "Epoch 6/40\n",
      "705/705 [==============================] - 9s 12ms/sample - loss: 0.8144 - accuracy: 0.6369 - val_loss: 0.7691 - val_accuracy: 0.6780\n",
      "Epoch 7/40\n",
      "705/705 [==============================] - 9s 13ms/sample - loss: 0.8124 - accuracy: 0.6369 - val_loss: 0.7675 - val_accuracy: 0.6780\n",
      "Epoch 8/40\n",
      "705/705 [==============================] - 8s 12ms/sample - loss: 0.7936 - accuracy: 0.6369 - val_loss: 0.7543 - val_accuracy: 0.6893\n",
      "Epoch 9/40\n",
      "705/705 [==============================] - 8s 12ms/sample - loss: 0.7835 - accuracy: 0.6340 - val_loss: 0.7433 - val_accuracy: 0.6836\n",
      "Epoch 10/40\n",
      "705/705 [==============================] - 9s 13ms/sample - loss: 0.7600 - accuracy: 0.6340 - val_loss: 0.7477 - val_accuracy: 0.6780\n",
      "Epoch 11/40\n",
      "705/705 [==============================] - 9s 13ms/sample - loss: 0.7561 - accuracy: 0.6596 - val_loss: 0.7239 - val_accuracy: 0.7062\n",
      "Epoch 12/40\n",
      "705/705 [==============================] - 8s 12ms/sample - loss: 0.7497 - accuracy: 0.6397 - val_loss: 0.7163 - val_accuracy: 0.7119\n",
      "Epoch 13/40\n",
      "705/705 [==============================] - 9s 12ms/sample - loss: 0.7461 - accuracy: 0.6411 - val_loss: 0.7163 - val_accuracy: 0.7175\n",
      "Epoch 14/40\n",
      "705/705 [==============================] - 9s 13ms/sample - loss: 0.7411 - accuracy: 0.6539 - val_loss: 0.7213 - val_accuracy: 0.7006\n",
      "Epoch 15/40\n",
      "705/705 [==============================] - 9s 12ms/sample - loss: 0.7314 - accuracy: 0.6582 - val_loss: 0.7131 - val_accuracy: 0.7062\n",
      "Epoch 16/40\n",
      "705/705 [==============================] - 9s 12ms/sample - loss: 0.7130 - accuracy: 0.6766 - val_loss: 0.7118 - val_accuracy: 0.7119\n",
      "Epoch 17/40\n",
      "705/705 [==============================] - 9s 13ms/sample - loss: 0.7167 - accuracy: 0.6624 - val_loss: 0.7098 - val_accuracy: 0.6949\n",
      "Epoch 18/40\n",
      "705/705 [==============================] - 9s 12ms/sample - loss: 0.7086 - accuracy: 0.6780 - val_loss: 0.7022 - val_accuracy: 0.7175\n",
      "Epoch 19/40\n",
      "705/705 [==============================] - 9s 12ms/sample - loss: 0.6796 - accuracy: 0.6851 - val_loss: 0.6919 - val_accuracy: 0.7288\n",
      "Epoch 20/40\n",
      "705/705 [==============================] - 8s 12ms/sample - loss: 0.6899 - accuracy: 0.6738 - val_loss: 0.6995 - val_accuracy: 0.7232\n",
      "Epoch 21/40\n",
      "705/705 [==============================] - 9s 13ms/sample - loss: 0.6642 - accuracy: 0.6823 - val_loss: 0.6938 - val_accuracy: 0.7175\n",
      "Epoch 22/40\n",
      "705/705 [==============================] - 9s 13ms/sample - loss: 0.6884 - accuracy: 0.6709 - val_loss: 0.7050 - val_accuracy: 0.7232\n",
      "Epoch 23/40\n",
      "705/705 [==============================] - 9s 12ms/sample - loss: 0.6791 - accuracy: 0.6879 - val_loss: 0.6885 - val_accuracy: 0.7288\n",
      "Epoch 24/40\n",
      "705/705 [==============================] - 9s 13ms/sample - loss: 0.6596 - accuracy: 0.6950 - val_loss: 0.6931 - val_accuracy: 0.7175\n",
      "Epoch 25/40\n",
      "705/705 [==============================] - 8s 12ms/sample - loss: 0.6486 - accuracy: 0.7035 - val_loss: 0.6792 - val_accuracy: 0.7232\n",
      "Epoch 26/40\n",
      "705/705 [==============================] - 9s 13ms/sample - loss: 0.6490 - accuracy: 0.6879 - val_loss: 0.6812 - val_accuracy: 0.7062\n",
      "Epoch 27/40\n",
      "705/705 [==============================] - 8s 12ms/sample - loss: 0.6385 - accuracy: 0.7149 - val_loss: 0.6739 - val_accuracy: 0.7175\n",
      "Epoch 28/40\n",
      "705/705 [==============================] - 9s 12ms/sample - loss: 0.6362 - accuracy: 0.7092 - val_loss: 0.6802 - val_accuracy: 0.7006\n",
      "Epoch 29/40\n",
      "705/705 [==============================] - 9s 13ms/sample - loss: 0.6055 - accuracy: 0.7319 - val_loss: 0.6839 - val_accuracy: 0.7232\n",
      "Epoch 30/40\n",
      "705/705 [==============================] - 9s 13ms/sample - loss: 0.6138 - accuracy: 0.7149 - val_loss: 0.6853 - val_accuracy: 0.7232\n",
      "Epoch 31/40\n",
      "705/705 [==============================] - 8s 12ms/sample - loss: 0.6061 - accuracy: 0.7376 - val_loss: 0.6820 - val_accuracy: 0.7288\n",
      "Epoch 32/40\n",
      "705/705 [==============================] - 9s 12ms/sample - loss: 0.5971 - accuracy: 0.7106 - val_loss: 0.6747 - val_accuracy: 0.7232\n",
      "Epoch 33/40\n",
      "705/705 [==============================] - 9s 13ms/sample - loss: 0.6183 - accuracy: 0.7035 - val_loss: 0.6710 - val_accuracy: 0.7232\n",
      "Epoch 34/40\n",
      "705/705 [==============================] - 9s 12ms/sample - loss: 0.5782 - accuracy: 0.7475 - val_loss: 0.6669 - val_accuracy: 0.7175\n",
      "Epoch 35/40\n",
      "705/705 [==============================] - 8s 11ms/sample - loss: 0.5989 - accuracy: 0.7404 - val_loss: 0.6673 - val_accuracy: 0.7062\n",
      "Epoch 36/40\n",
      "705/705 [==============================] - 9s 13ms/sample - loss: 0.5847 - accuracy: 0.7447 - val_loss: 0.6644 - val_accuracy: 0.7232\n",
      "Epoch 37/40\n",
      "705/705 [==============================] - 9s 13ms/sample - loss: 0.5713 - accuracy: 0.7390 - val_loss: 0.6638 - val_accuracy: 0.7232\n",
      "Epoch 38/40\n",
      "705/705 [==============================] - 9s 12ms/sample - loss: 0.5652 - accuracy: 0.7461 - val_loss: 0.6591 - val_accuracy: 0.7175\n",
      "Epoch 39/40\n",
      "705/705 [==============================] - 9s 13ms/sample - loss: 0.5698 - accuracy: 0.7504 - val_loss: 0.6600 - val_accuracy: 0.7232\n",
      "Epoch 40/40\n",
      "705/705 [==============================] - 9s 13ms/sample - loss: 0.5450 - accuracy: 0.7674 - val_loss: 0.6651 - val_accuracy: 0.7175\n",
      "Accuracy_score:  0.7175141242937854\n",
      "Precision_score:  0.7175141242937854\n",
      "Recall_score:  0.7175141242937854\n",
      "--------------------------------------------------\n",
      "              precision    recall  f1-score   support\n",
      "\n",
      "           0       0.45      0.45      0.45        33\n",
      "           1       0.81      0.88      0.84       120\n",
      "           2       0.47      0.29      0.36        24\n",
      "\n",
      "    accuracy                           0.72       177\n",
      "   macro avg       0.58      0.54      0.55       177\n",
      "weighted avg       0.70      0.72      0.71       177\n",
      "\n"
     ]
    },
    {
     "data": {
      "image/png": "[encoded data removed]",
      "text/plain": [
       "<Figure size 432x288 with 2 Axes>"
      ]
     },
     "metadata": {
      "needs_background": "light"
     },
     "output_type": "display_data"
    }
   ],
   "source": [
    "with tf.compat.v1.Session() as sess:\n",
    "  sess.run(tf.global_variables_initializer())\n",
    "  sess.run(tf.tables_initializer())\n",
    "  x_train = np.array(x_train)\n",
    "  y_train = np.array(y_train)\n",
    "  history = model.fit(x_train, y_train, validation_data=(x_val,y_val),epochs = 40, class_weight={0:1,1:1,2:1})\n",
    "\n",
    "  y_test = []\n",
    "  y_pred = []\n",
    "\n",
    "  for ele in x_val:\n",
    "      x = model.predict(ele)\n",
    "      y = np.argmax(x)\n",
    "      y_pred.append(y)\n",
    "          \n",
    "  for x in y_val:\n",
    "      y = np.argmax(x)\n",
    "      y_test.append(y)\n",
    "      \n",
    "  predictions = y_pred\n",
    "\n",
    "  from sklearn.metrics import accuracy_score,precision_score,recall_score,confusion_matrix,roc_curve,classification_report\n",
    "  from sklearn.metrics import confusion_matrix, ConfusionMatrixDisplay\n",
    "\n",
    "  cm = confusion_matrix(y_test, predictions, labels=[0,1,2])\n",
    "  disp = ConfusionMatrixDisplay(confusion_matrix=cm,display_labels=[0,1,2])\n",
    "  acc_score = accuracy_score(y_test,predictions)\n",
    "  pre_score = precision_score(y_test,predictions,average='micro')\n",
    "  rec_score = recall_score(y_test,predictions,average='micro')\n",
    "  print('Accuracy_score: ',acc_score)\n",
    "  print('Precision_score: ',pre_score)\n",
    "  print('Recall_score: ',rec_score)\n",
    "  print(\"-\"*50)\n",
    "  cr = classification_report(y_test,predictions)\n",
    "  print(cr)\n",
    "  disp.plot()"
   ]
  }
 ],
 "metadata": {
  "accelerator": "GPU",
  "colab": {
   "provenance": []
  },
  "gpuClass": "standard",
  "kernelspec": {
   "display_name": "Python 3 (ipykernel)",
   "language": "python",
   "name": "python3"
  },
  "language_info": {
   "codemirror_mode": {
    "name": "ipython",
    "version": 3
   },
   "file_extension": ".py",
   "mimetype": "text/x-python",
   "name": "python",
   "nbconvert_exporter": "python",
   "pygments_lexer": "ipython3",
   "version": "3.10.9"
  }
 },
 "nbformat": 4,
 "nbformat_minor": 5
}
